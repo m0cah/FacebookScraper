{
 "cells": [
  {
   "cell_type": "code",
   "execution_count": 6,
   "metadata": {},
   "outputs": [],
   "source": [
    "from selenium import webdriver\n",
    "from selenium.webdriver.common.keys import Keys\n",
    "from selenium.webdriver.common.by import By\n",
    "import re\n",
    "import numpy as np\n",
    "import pandas as pd\n",
    "import time\n",
    "import json\n",
    "from bs4 import BeautifulSoup as bs"
   ]
  },
  {
   "cell_type": "code",
   "execution_count": 13,
   "metadata": {},
   "outputs": [
    {
     "name": "stderr",
     "output_type": "stream",
     "text": [
      "C:\\Users\\micah\\AppData\\Local\\Temp\\ipykernel_12568\\719355545.py:1: DeprecationWarning: executable_path has been deprecated, please pass in a Service object\n",
      "  driver = webdriver.Firefox(executable_path='C:/Users/micah/geckodriver-v0.31.0-win64/geckodriver.exe')\n"
     ]
    }
   ],
   "source": [
    "\n",
    "driver = webdriver.Firefox(executable_path='C:/Users/micah/geckodriver-v0.31.0-win64/geckodriver.exe')\n",
    "def login(driver):\n",
    "    with open(\"smith.txt\", 'r') as f:\n",
    "        account = (f.read()).split(\",\")\n",
    "    driver.get(\"https://www.facebook.com/\")\n",
    "    elem = driver.find_element(By.XPATH, '//*[@id=\"email\"]')\n",
    "    elem.clear()\n",
    "    elem.send_keys(account[0])\n",
    "    passw = driver.find_element(By.XPATH,'//*[@id=\"pass\"]')\n",
    "    passw.send_keys(account[1])\n",
    "    login = driver.find_element(By.XPATH,'/html/body/div[1]/div[1]/div[1]/div/div/div/div[2]/div/div[1]/form/div[2]/button')\n",
    "    login.click()\n",
    "def generalNameList():\n",
    "    x = pd.read_csv('names.csv')\n",
    "    return x['Generals'].to_list()\n",
    "def nameToLink(name):\n",
    "    return name.replace(\" \", \"%20\")\n",
    "def generalSearch(driver):\n",
    "    generals = generalNameList()\n",
    "    master_list = \"\"\n",
    "    count = 0\n",
    "    for general in generals:\n",
    "        # elem = driver.find_element(By.XPATH, '/html/body/div[1]/div/div[1]/div/div[2]/div[2]/div[1]/div/div/div[3]/div/div/div/div[1]/div/div/label/input')\n",
    "        # elem.send_keys(general)\n",
    "        driver.get(\"https://www.facebook.com/search/people/?q=\" + nameToLink(general))\n",
    "        textual_healing = driver.page_source\n",
    "        expression = '\"id\":\"[0-9]*\"'\n",
    "        ids = re.findall(expression, textual_healing)\n",
    "        x = np.array(ids)\n",
    "        p = np.unique(x)\n",
    "        gen = (general + \"/\")*len(p)\n",
    "        p = \" \".join(p)\n",
    "        gen2 = gen + \";\" + p\n",
    "        master_list += str(gen2) + \"\\n\"\n",
    "        if count%15 == 0 and count != 0:\n",
    "            time.sleep(10)\n",
    "        count +=1\n",
    "    driver.close()\n",
    "    with open('general_ids.txt', 'w') as f:\n",
    "        f.write(str(master_list))\n",
    "\n",
    "# login(driver)\n",
    "# generalSearch(driver)"
   ]
  },
  {
   "cell_type": "code",
   "execution_count": 5,
   "metadata": {},
   "outputs": [
    {
     "data": {
      "text/html": [
       "<div>\n",
       "<style scoped>\n",
       "    .dataframe tbody tr th:only-of-type {\n",
       "        vertical-align: middle;\n",
       "    }\n",
       "\n",
       "    .dataframe tbody tr th {\n",
       "        vertical-align: top;\n",
       "    }\n",
       "\n",
       "    .dataframe thead th {\n",
       "        text-align: right;\n",
       "    }\n",
       "</style>\n",
       "<table border=\"1\" class=\"dataframe\">\n",
       "  <thead>\n",
       "    <tr style=\"text-align: right;\">\n",
       "      <th></th>\n",
       "      <th></th>\n",
       "      <th>score</th>\n",
       "    </tr>\n",
       "    <tr>\n",
       "      <th>general</th>\n",
       "      <th>id</th>\n",
       "      <th></th>\n",
       "    </tr>\n",
       "  </thead>\n",
       "  <tbody>\n",
       "    <tr>\n",
       "      <th rowspan=\"5\" valign=\"top\">Mark W. Gillette</th>\n",
       "      <th>100021231701450</th>\n",
       "      <td>0.0</td>\n",
       "    </tr>\n",
       "    <tr>\n",
       "      <th>100030520254298</th>\n",
       "      <td>0.0</td>\n",
       "    </tr>\n",
       "    <tr>\n",
       "      <th>100045593106158</th>\n",
       "      <td>0.0</td>\n",
       "    </tr>\n",
       "    <tr>\n",
       "      <th>100054796545986</th>\n",
       "      <td>0.0</td>\n",
       "    </tr>\n",
       "    <tr>\n",
       "      <th>100057821166064</th>\n",
       "      <td>0.0</td>\n",
       "    </tr>\n",
       "    <tr>\n",
       "      <th>...</th>\n",
       "      <th>...</th>\n",
       "      <td>...</td>\n",
       "    </tr>\n",
       "    <tr>\n",
       "      <th rowspan=\"5\" valign=\"top\">Tony L. Wright</th>\n",
       "      <th>100006098828370</th>\n",
       "      <td>0.0</td>\n",
       "    </tr>\n",
       "    <tr>\n",
       "      <th>100009837580460</th>\n",
       "      <td>0.0</td>\n",
       "    </tr>\n",
       "    <tr>\n",
       "      <th>100011042771830</th>\n",
       "      <td>0.0</td>\n",
       "    </tr>\n",
       "    <tr>\n",
       "      <th>100083776454937</th>\n",
       "      <td>0.0</td>\n",
       "    </tr>\n",
       "    <tr>\n",
       "      <th>1676286596</th>\n",
       "      <td>0.0</td>\n",
       "    </tr>\n",
       "  </tbody>\n",
       "</table>\n",
       "<p>659 rows × 1 columns</p>\n",
       "</div>"
      ],
      "text/plain": [
       "                                  score\n",
       "general          id                    \n",
       "Mark W. Gillette 100021231701450    0.0\n",
       "                 100030520254298    0.0\n",
       "                 100045593106158    0.0\n",
       "                 100054796545986    0.0\n",
       "                 100057821166064    0.0\n",
       "...                                 ...\n",
       "Tony L. Wright   100006098828370    0.0\n",
       "                 100009837580460    0.0\n",
       "                 100011042771830    0.0\n",
       "                 100083776454937    0.0\n",
       "                 1676286596         0.0\n",
       "\n",
       "[659 rows x 1 columns]"
      ]
     },
     "execution_count": 5,
     "metadata": {},
     "output_type": "execute_result"
    }
   ],
   "source": [
    "def getDataFrame():\n",
    "    q = open('general_ids.txt', 'r')\n",
    "    text = q.read()\n",
    "    text = text.split(\"\\n\")\n",
    "    id_list= []\n",
    "    for tex in text:\n",
    "        general_list = tex.split(\";\")\n",
    "        general_list[0] = general_list[0].split(\"/\")\n",
    "        if len(general_list) == 2:\n",
    "            general_list[1] = general_list[1].split(\" \")\n",
    "            for i in range(len(general_list[1])):\n",
    "                general_list[1][i] = re.sub('\\D', '', general_list[1][i])\n",
    "            q = list(zip(general_list[0], general_list[1]))\n",
    "        id_list.append(q)\n",
    "    actual = []\n",
    "    for item in id_list:\n",
    "        actual += item\n",
    "    hier_index = pd.MultiIndex.from_tuples(actual)\n",
    "    df = pd.DataFrame(np.zeros(len(actual)), index=hier_index, columns=['score'])\n",
    "    df.index.names = ['general', 'id']\n",
    "    return df\n",
    "\n",
    "df = getDataFrame()\n",
    "df"
   ]
  },
  {
   "cell_type": "code",
   "execution_count": 47,
   "metadata": {},
   "outputs": [
    {
     "name": "stderr",
     "output_type": "stream",
     "text": [
      "C:\\Users\\micah\\AppData\\Local\\Temp\\ipykernel_12568\\1183770657.py:1: DeprecationWarning: executable_path has been deprecated, please pass in a Service object\n",
      "  driver = driver = webdriver.Firefox(executable_path='C:/Users/micah/geckodriver-v0.31.0-win64/geckodriver.exe')\n"
     ]
    },
    {
     "name": "stdout",
     "output_type": "stream",
     "text": [
      " Tony Lwright 9.0\n"
     ]
    }
   ],
   "source": [
    "driver = driver = webdriver.Firefox(executable_path='C:/Users/micah/geckodriver-v0.31.0-win64/geckodriver.exe')\n",
    "login(driver)\n",
    "driver.get(\"https://www.facebook.com/profile.php?id=100009837580460\")\n",
    "source = driver.page_source\n",
    "with open('text.html', 'w', encoding='utf-8') as f:\n",
    "    f.write(source)\n",
    "def findFriends(html):\n",
    "    rex = r'\"text\":\".*\\sfriends\"'\n",
    "    friends = re.findall(rex,html)\n",
    "    if friends == []:\n",
    "        return 0\n",
    "    hell = re.findall(r'(\\d+(?:\\.\\d+)?)', friends[0])\n",
    "    if 'K' in friends[0]:\n",
    "        return float(hell[0])*1000\n",
    "    else:\n",
    "        return float(hell[0])   \n",
    "with open('text.html', 'r') as f:\n",
    "    source = f.read()\n",
    "def findName(html):\n",
    "    soup =bs(html, 'html.parser')\n",
    "    name1=soup.title.get_text()\n",
    "    name2 = name1.replace('(2)', \"\")\n",
    "    name3 = name2.replace(' | Facebook', '')\n",
    "    return name3\n",
    "def findJob(html):\n",
    "    soup = bs(html, 'html.parser')\n",
    "    test = soup.find('a', class_='oajrlxb2 g5ia77u1 qu0x051f esr5mh6w e9989ue4 r7d6kgcz rq0escxv nhd2j8a9 nc684nl6 p7hjln8o kvgmc6g5 cxmmr5t8 oygrvhab hcukyx3x jb3vyjys rz4wbd8a qt6c0cv9 a8nywdso i1ao9s8h esuyzwwr f1sip0of lzcic4wl gpro0wi8 oo9gr5id lrazzd5p')\n",
    "    print(test)\n",
    "findJob(source)"
   ]
  },
  {
   "cell_type": "code",
   "execution_count": null,
   "metadata": {},
   "outputs": [],
   "source": []
  }
 ],
 "metadata": {
  "kernelspec": {
   "display_name": "Python 3.9.13 ('base')",
   "language": "python",
   "name": "python3"
  },
  "language_info": {
   "codemirror_mode": {
    "name": "ipython",
    "version": 3
   },
   "file_extension": ".py",
   "mimetype": "text/x-python",
   "name": "python",
   "nbconvert_exporter": "python",
   "pygments_lexer": "ipython3",
   "version": "3.9.13"
  },
  "orig_nbformat": 4,
  "vscode": {
   "interpreter": {
    "hash": "a24b065db97ade08057b98979cf82351c91d649c770fd58f21dc997c7ac9a2bc"
   }
  }
 },
 "nbformat": 4,
 "nbformat_minor": 2
}
